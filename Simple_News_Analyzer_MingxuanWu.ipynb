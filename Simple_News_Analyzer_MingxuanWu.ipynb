{
  "nbformat": 4,
  "nbformat_minor": 0,
  "metadata": {
    "colab": {
      "provenance": []
    },
    "kernelspec": {
      "name": "python3",
      "display_name": "Python 3"
    },
    "language_info": {
      "name": "python"
    }
  },
  "cells": [
    {
      "cell_type": "markdown",
      "source": [
        "Part 1"
      ],
      "metadata": {
        "id": "sHw8-5ealCOo"
      }
    },
    {
      "cell_type": "code",
      "source": [
        "import requests as r\n",
        "import pandas as pd\n",
        "from io import StringIO\n",
        "import seaborn as sns\n",
        "import matplotlib.pyplot as plt\n",
        "\n",
        "from config import API_KEY\n",
        "#setting initials and getting articles\n",
        "Selected_section = 'Technology'\n",
        "year = 2018\n",
        "month = 1\n",
        "Archive_articles = r.get(f\"https://api.nytimes.com/svc/archive/v1/{year}/{month}.json?api-key={API_KEY}\").json()\n",
        "results = pd.json_normalize(Archive_articles['response']['docs'])\n",
        "#creating empty list\n",
        "headline = []\n",
        "published_date = []\n",
        "keywords = []\n",
        "#getting the information from each article within the selected section\n",
        "for article in Archive_articles['response']['docs']:\n",
        "  if article['section_name'] == Selected_section:\n",
        "    headline.append(article.get('headline', {}).get('main', ''))\n",
        "    published_date.append(article['pub_date'])\n",
        "    keywords.append(', '.join([keyword['value'] for keyword in article.get('keywords', []) if keyword.get('name', '') == 'subject']))\n",
        "#merging the three lists into a dictionary\n",
        "Archive_df = {\n",
        "    'Headline': headline,\n",
        "    'Published_date': published_date,\n",
        "    'Keywords': keywords\n",
        "}\n",
        "#converting the dictionary into a dataframe\n",
        "Archive_df = pd.DataFrame.from_dict(Archive_df)\n",
        "Archive_df"
      ],
      "metadata": {
        "id": "NuXsx-3THU-o"
      },
      "execution_count": null,
      "outputs": []
    },
    {
      "cell_type": "markdown",
      "source": [
        "Part 2"
      ],
      "metadata": {
        "id": "zJZGFWpClFVh"
      }
    },
    {
      "cell_type": "code",
      "source": [
        "#spliting each Keywords(which have include mulitply within a row) into single Keyword reach comma\n",
        "keywords = Archive_df['Keywords'].str.split(', ').explode()\n",
        "#counting unqiue value\n",
        "keywords = keywords.value_counts().reset_index()\n",
        "#displaying keywords and count\n",
        "print(keywords)\n",
        "#setting published date to datetime\n",
        "Archive_df['Published_date'] = pd.to_datetime(Archive_df['Published_date'])"
      ],
      "metadata": {
        "id": "Y0xlBBm1md6Z"
      },
      "execution_count": null,
      "outputs": []
    },
    {
      "cell_type": "markdown",
      "source": [
        "Part 3 bar chart"
      ],
      "metadata": {
        "id": "bA8ApgtGlGxw"
      }
    },
    {
      "cell_type": "code",
      "source": [
        "#extracting the top 10 keywords\n",
        "top10_keywords = keywords.head(10)\n",
        "#creating the bar chart\n",
        "plt.figure(figsize=(20, 10))\n",
        "sns.barplot(x='index', y='Keywords', data=top10_keywords)\n",
        "#adding label\n",
        "plt.title('Top 10 Most Frequently Mentioned Keywords')\n",
        "plt.xlabel('Keyword')\n",
        "plt.ylabel('Count')\n",
        "plt.show()"
      ],
      "metadata": {
        "id": "3RFMA9tmlJiG"
      },
      "execution_count": null,
      "outputs": []
    },
    {
      "cell_type": "markdown",
      "source": [
        "Part 3 Line graph"
      ],
      "metadata": {
        "id": "QUFS53a51Z61"
      }
    },
    {
      "cell_type": "code",
      "source": [
        "#finding how many articles are published per day and week\n",
        "articles_per_day = Archive_df.resample('D', on='Published_date').size()\n",
        "articles_per_week = Archive_df.resample('W', on='Published_date').size()\n",
        "#creating the graph\n",
        "fig, ax = plt.subplots(figsize=(10, 6))\n",
        "#adding the lines to the graph\n",
        "articles_per_day.plot(ax=ax, label='Per Day', marker='o', linestyle='-')\n",
        "articles_per_week.plot(ax=ax, label='Per Week', marker='o', linestyle='-')\n",
        "#adding labels\n",
        "plt.title('Number of Articles Published Over Time')\n",
        "plt.xlabel('Date')\n",
        "plt.ylabel('Number of Articles')\n",
        "plt.legend()\n",
        "plt.show()"
      ],
      "metadata": {
        "id": "CYCfzRo_1c8M"
      },
      "execution_count": null,
      "outputs": []
    },
    {
      "cell_type": "markdown",
      "source": [
        "Not used(Start up test)"
      ],
      "metadata": {
        "id": "NHYbTrvUlH7N"
      }
    },
    {
      "cell_type": "code",
      "execution_count": null,
      "metadata": {
        "id": "KQvSbE03f9ts"
      },
      "outputs": [],
      "source": [
        "import requests as r\n",
        "import pandas as pd\n",
        "from io import StringIO\n",
        "import seaborn as sns\n",
        "import matplotlib.pyplot as plt\n",
        "\n",
        "from config import API_KEY\n",
        "\n",
        "Selected_section = 'Technology'\n",
        "Selected_articles = r.get(f\"https://api.nytimes.com/svc/topstories/v2/{Selected_section}.json?api-key={API_KEY}\").json()\n",
        "\n",
        "headline = []\n",
        "published_date = []\n",
        "keywords = []\n",
        "\n",
        "for article in Selected_articles['results']:\n",
        "  headline.append(article['title'])\n",
        "  published_date.append(article['published_date'])\n",
        "  keywords.append(article['des_facet'])\n",
        "\n",
        "Selected_df = {\n",
        "    'Headline': headline,\n",
        "    'Published_date': published_date,\n",
        "    'Keywords': keywords\n",
        "}\n",
        "\n",
        "Selected_df = pd.DataFrame.from_dict(Selected_df)\n",
        "Selected_df"
      ]
    }
  ]
}